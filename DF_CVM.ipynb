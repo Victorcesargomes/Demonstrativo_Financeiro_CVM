{
 "cells": [
  {
   "cell_type": "markdown",
   "id": "041dabea",
   "metadata": {},
   "source": [
    "# 0.0. IMPORTS"
   ]
  },
  {
   "cell_type": "code",
   "execution_count": null,
   "id": "eefd80e3",
   "metadata": {},
   "outputs": [],
   "source": [
    "import pandas as pd\n",
    "import wget\n",
    "from zipfile import ZipFile"
   ]
  },
  {
   "cell_type": "markdown",
   "id": "18b5e078",
   "metadata": {},
   "source": [
    "# 1.0. Acessando a base de dados e criando arquivos históricos"
   ]
  },
  {
   "cell_type": "code",
   "execution_count": null,
   "id": "a1822b69",
   "metadata": {},
   "outputs": [],
   "source": [
    "url_base = 'http://dados.cvm.gov.br/dados/CIA_ABERTA/DOC/DFP/DADOS/'"
   ]
  },
  {
   "cell_type": "markdown",
   "id": "1789aff5",
   "metadata": {},
   "source": [
    "## 1.1. Criando uma lista com o nome de todos os arquivos"
   ]
  },
  {
   "cell_type": "code",
   "execution_count": null,
   "id": "cfd7caa9",
   "metadata": {},
   "outputs": [],
   "source": [
    "arquivos_zip = []"
   ]
  },
  {
   "cell_type": "code",
   "execution_count": null,
   "id": "738939da",
   "metadata": {},
   "outputs": [],
   "source": [
    "for ano in range(2010, 2022):\n",
    "    arquivos_zip.append(f'dfp_cia_aberta_{ano}.zip')"
   ]
  },
  {
   "cell_type": "markdown",
   "id": "e652268d",
   "metadata": {},
   "source": [
    "## 1.2. Fazendo o download de todos os arquivos"
   ]
  },
  {
   "cell_type": "code",
   "execution_count": null,
   "id": "e5b91c48",
   "metadata": {},
   "outputs": [],
   "source": [
    "for arquivos in arquivos_zip:\n",
    "    wget.download(url_base+arquivos)"
   ]
  },
  {
   "cell_type": "markdown",
   "id": "ea6f180d",
   "metadata": {},
   "source": [
    "## 1.3. Extraindo os arquivos \"zip\""
   ]
  },
  {
   "cell_type": "code",
   "execution_count": null,
   "id": "c625e123",
   "metadata": {},
   "outputs": [],
   "source": [
    "for arquivos in arquivos_zip:\n",
    "    ZipFile(arquivos, 'r').extractall('CVM')"
   ]
  },
  {
   "cell_type": "markdown",
   "id": "1eeee6d6",
   "metadata": {},
   "source": [
    "## 1.4. Criando arquivos históricos"
   ]
  },
  {
   "cell_type": "code",
   "execution_count": null,
   "id": "c8f2a5da",
   "metadata": {},
   "outputs": [],
   "source": [
    "nomes = ['BPA_con', 'BPA_ind', 'BPP_con', 'BPP_ind', 'DFC_MD_con', 'DFC_MD_ind', \n",
    "        'DFC_MI_con', 'DFC_MI_ind', 'DMPL_con', 'DMPL_ind', 'DRE_con', 'DRE_ind',\n",
    "        'DVA_con', 'DVA_ind']"
   ]
  },
  {
   "cell_type": "code",
   "execution_count": null,
   "id": "75fb8ee0",
   "metadata": {},
   "outputs": [],
   "source": [
    "for nome in nomes:\n",
    "    arquivo = pd.DataFrame()\n",
    "    for ano in range(2010,2022):\n",
    "        arquivo = pd.concat([arquivo, pd.read_csv(f'CVM/dfp_cia_aberta_{nome}_{ano}.csv',\n",
    "                                                  sep=';',decimal=',',encoding='ISO-8859-1')] )\n",
    "          arquivo.to_csv(f'DADOS/dfp_cia_aberta_{nome}_2010-2021.csv', index=False)"
   ]
  },
  {
   "cell_type": "code",
   "execution_count": null,
   "id": "7a2fe7bd",
   "metadata": {},
   "outputs": [],
   "source": [
    "re = pd.read_csv('DADOS/dfp_cia_aberta_DRE_ind_2010-2021.csv')\n",
    "\n",
    "dre.head()"
   ]
  }
 ],
 "metadata": {
  "kernelspec": {
   "display_name": "Python 3 (ipykernel)",
   "language": "python",
   "name": "python3"
  },
  "language_info": {
   "codemirror_mode": {
    "name": "ipython",
    "version": 3
   },
   "file_extension": ".py",
   "mimetype": "text/x-python",
   "name": "python",
   "nbconvert_exporter": "python",
   "pygments_lexer": "ipython3",
   "version": "3.10.1"
  }
 },
 "nbformat": 4,
 "nbformat_minor": 5
}
